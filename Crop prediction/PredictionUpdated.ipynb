{
  "nbformat": 4,
  "nbformat_minor": 0,
  "metadata": {
    "colab": {
      "name": "Untitled4.ipynb",
      "provenance": []
    },
    "kernelspec": {
      "name": "python3",
      "display_name": "Python 3"
    }
  },
  "cells": [
    {
      "cell_type": "code",
      "metadata": {
        "id": "MIxvfsOISIDw",
        "colab_type": "code",
        "colab": {}
      },
      "source": [
        "\n",
        "from numpy import array\n",
        "from keras.models import Sequential\n",
        "from keras.layers import LSTM\n",
        "from keras.layers import Dense\n",
        "import numpy as np\n",
        "import pandas as pd\n",
        "import seaborn as sns  \n",
        "from sklearn.model_selection import train_test_split \n",
        "from sklearn.linear_model import LinearRegression\n",
        "from sklearn import metrics\n",
        "%matplotlib inline\n",
        "import pickle\n",
        "from keras.layers import Bidirectional\n"
      ],
      "execution_count": 106,
      "outputs": []
    },
    {
      "cell_type": "code",
      "metadata": {
        "id": "1XDD-3H-bKdv",
        "colab_type": "code",
        "colab": {}
      },
      "source": [
        "df = pd.read_csv(\"/content/drive/My Drive/data for prediction/TrainingData.csv\",header=None)\n",
        "\n",
        "col_Names=[\"Humidity(kg/kg)\", \"Ndvi\", \"Soil Moisture(kg/m^2)\", \"Temperatur(k)\"]\n",
        "df.columns=col_Names\n"
      ],
      "execution_count": 107,
      "outputs": []
    },
    {
      "cell_type": "code",
      "metadata": {
        "id": "XM8xcZaobMzF",
        "colab_type": "code",
        "colab": {
          "base_uri": "https://localhost:8080/",
          "height": 168
        },
        "outputId": "2daa18a4-6583-4b24-85a7-8e265058eb72"
      },
      "source": [
        "df"
      ],
      "execution_count": 108,
      "outputs": [
        {
          "output_type": "execute_result",
          "data": {
            "text/html": [
              "<div>\n",
              "<style scoped>\n",
              "    .dataframe tbody tr th:only-of-type {\n",
              "        vertical-align: middle;\n",
              "    }\n",
              "\n",
              "    .dataframe tbody tr th {\n",
              "        vertical-align: top;\n",
              "    }\n",
              "\n",
              "    .dataframe thead th {\n",
              "        text-align: right;\n",
              "    }\n",
              "</style>\n",
              "<table border=\"1\" class=\"dataframe\">\n",
              "  <thead>\n",
              "    <tr style=\"text-align: right;\">\n",
              "      <th></th>\n",
              "      <th>Humidity(kg/kg)</th>\n",
              "      <th>Ndvi</th>\n",
              "      <th>Soil Moisture(kg/m^2)</th>\n",
              "      <th>Temperatur(k)</th>\n",
              "    </tr>\n",
              "  </thead>\n",
              "  <tbody>\n",
              "    <tr>\n",
              "      <th>0</th>\n",
              "      <td>0.011250</td>\n",
              "      <td>4913.295</td>\n",
              "      <td>57.312445</td>\n",
              "      <td>311.273290</td>\n",
              "    </tr>\n",
              "    <tr>\n",
              "      <th>1</th>\n",
              "      <td>0.008913</td>\n",
              "      <td>4358.205</td>\n",
              "      <td>23.132269</td>\n",
              "      <td>317.441438</td>\n",
              "    </tr>\n",
              "    <tr>\n",
              "      <th>2</th>\n",
              "      <td>0.010115</td>\n",
              "      <td>4707.235</td>\n",
              "      <td>25.280542</td>\n",
              "      <td>317.720583</td>\n",
              "    </tr>\n",
              "    <tr>\n",
              "      <th>3</th>\n",
              "      <td>0.009910</td>\n",
              "      <td>4463.045</td>\n",
              "      <td>25.153470</td>\n",
              "      <td>316.021022</td>\n",
              "    </tr>\n",
              "  </tbody>\n",
              "</table>\n",
              "</div>"
            ],
            "text/plain": [
              "   Humidity(kg/kg)      Ndvi  Soil Moisture(kg/m^2)  Temperatur(k)\n",
              "0         0.011250  4913.295              57.312445     311.273290\n",
              "1         0.008913  4358.205              23.132269     317.441438\n",
              "2         0.010115  4707.235              25.280542     317.720583\n",
              "3         0.009910  4463.045              25.153470     316.021022"
            ]
          },
          "metadata": {
            "tags": []
          },
          "execution_count": 108
        }
      ]
    },
    {
      "cell_type": "code",
      "metadata": {
        "id": "KzXr7haFSM_m",
        "colab_type": "code",
        "colab": {
          "base_uri": "https://localhost:8080/",
          "height": 34
        },
        "outputId": "db618cdc-772c-4cd0-f6b7-a52d23e53cba"
      },
      "source": [
        "\n",
        "\n",
        "\n",
        "train = np.array([224.2, 254.3, 300.56,357.19])\n",
        "\n",
        "model = LinearRegression()\n",
        "\n",
        "model.fit(df, train)\n",
        "\n",
        "test = pd.read_csv(\"/content/drive/My Drive/data for prediction/TrainingDataY.csv\",header=None)\n",
        "\n",
        "y_predicted = model.predict(test)\n",
        "\n",
        "train=np.append(train,y_predicted[0])\n",
        "\n",
        "print(y_predicted[0])\n",
        "data_to_append = {}\n",
        "for i in range(len(df.columns)):\n",
        "    data_to_append[df.columns[i]] = arr5[i]\n",
        "df = df.append(data_to_append, ignore_index = True)\n"
      ],
      "execution_count": 109,
      "outputs": [
        {
          "output_type": "stream",
          "text": [
            "526.4876977339445\n"
          ],
          "name": "stdout"
        }
      ]
    },
    {
      "cell_type": "code",
      "metadata": {
        "id": "yexRXQPndDRP",
        "colab_type": "code",
        "colab": {}
      },
      "source": [
        ""
      ],
      "execution_count": 109,
      "outputs": []
    },
    {
      "cell_type": "code",
      "metadata": {
        "id": "PiuXaIb2Sclh",
        "colab_type": "code",
        "colab": {}
      },
      "source": [
        "def split_sequence(sequence, n_steps):\n",
        "\tX, y = list(), list()\n",
        "\tfor i in range(len(sequence)):\n",
        "\t\t# find the end of this pattern\n",
        "\t\tend_ix = i + n_steps\n",
        "\t\t# check if we are beyond the sequence\n",
        "\t\tif end_ix > len(sequence)-1:\n",
        "\t\t\tbreak\n",
        "\t\t# gather input and output parts of the pattern\n",
        "\t\tseq_x, seq_y = sequence[i:end_ix], sequence[end_ix]\n",
        "\t\tX.append(seq_x)\n",
        "\t\ty.append(seq_y)\n",
        "\treturn array(X), array(y) "
      ],
      "execution_count": 110,
      "outputs": []
    },
    {
      "cell_type": "code",
      "metadata": {
        "id": "gsQveDp4Sc3D",
        "colab_type": "code",
        "colab": {
          "base_uri": "https://localhost:8080/",
          "height": 328
        },
        "outputId": "c1e89af4-b8c3-4367-ce98-5404c0760b75"
      },
      "source": [
        "flag=1\n",
        "for i in range(6):\n",
        "  arrEx=[]\n",
        "  raw_seq = df.iloc[:,0:1]\n",
        "  raw_seq=raw_seq.to_numpy()\n",
        "  print(raw_seq.shape)\n",
        "\n",
        "  #Humidity\n",
        "\n",
        "  n_steps = 4\n",
        "  print(n_steps)\n",
        "  # split into samples\n",
        "  X, y = split_sequence(raw_seq, n_steps)\n",
        "  # reshape from [samples, timesteps] into [samples, timesteps, features]\n",
        "  n_features = 1\n",
        "  X = X.reshape((X.shape[0], X.shape[1], n_features))\n",
        "  # define model\n",
        "  model = Sequential()\n",
        "  model.add(LSTM(50, activation='relu', return_sequences=True, input_shape=(n_steps, n_features)))\n",
        "  model.add(LSTM(50, activation='relu'))\n",
        "  model.add(Dense(1))\n",
        "  model.compile(optimizer='adam', loss='mse')\n",
        "  # fit model\n",
        "  model.fit(X, y, epochs=250, verbose=0)\n",
        "  # demonstrate prediction\n",
        "  x_input = raw_seq[1+i:]\n",
        "  x_input = x_input.reshape((1, n_steps, n_features))\n",
        "  yhat = model.predict(x_input, verbose=0)\n",
        "\n",
        "  if flag==1:\n",
        "    with open('<Humidity>.pkl', 'wb') as file:\n",
        "      pickle.dump(model, file)\n",
        "\n",
        "  arrEx.append(yhat[0][0])\n",
        "\n",
        "  raw_seq = df.iloc[:,1:2]\n",
        "  raw_seq=raw_seq.to_numpy()\n",
        "  raw_seq.shape\n",
        "\n",
        "\n",
        "  #Ndvi\n",
        "  n_steps = 4\n",
        "  # split into samples\n",
        "  X, y = split_sequence(raw_seq, n_steps)\n",
        "  # reshape from [samples, timesteps] into [samples, timesteps, features]\n",
        "  n_features = 1\n",
        "  X = X.reshape((X.shape[0], X.shape[1], n_features))\n",
        "  # define model\n",
        "  model = Sequential()\n",
        "  model.add(LSTM(50, activation='relu', return_sequences=True, input_shape=(n_steps, n_features)))\n",
        "  model.add(LSTM(50, activation='relu'))\n",
        "  model.add(Dense(1))\n",
        "  model.compile(optimizer='adam', loss='mse')\n",
        "  # fit model\n",
        "  model.fit(X, y, epochs=250, verbose=0)\n",
        "  # demonstrate prediction\n",
        "  x_input = raw_seq[1+i:]\n",
        "  x_input = x_input.reshape((1, n_steps, n_features))\n",
        "  yhat = model.predict(x_input, verbose=0)\n",
        "  arrEx.append(yhat[0][0])\n",
        "  if flag==1:\n",
        "    with open('<NDVI>.pkl', 'wb') as file:\n",
        "      pickle.dump(model, file)\n",
        "\n",
        "  #Soil\n",
        "  raw_seq = df.iloc[:,2:3]\n",
        "  raw_seq=raw_seq.to_numpy()\n",
        "  raw_seq.shape\n",
        "  n_steps = 4\n",
        "  # split into samples\n",
        "  X, y = split_sequence(raw_seq, n_steps)\n",
        "  # reshape from [samples, timesteps] into [samples, timesteps, features]\n",
        "  n_features = 1\n",
        "  X = X.reshape((X.shape[0], X.shape[1], n_features))\n",
        "  # define model\n",
        "  model = Sequential()\n",
        "  model.add(LSTM(50, activation='relu', return_sequences=True, input_shape=(n_steps, n_features)))\n",
        "  model.add(LSTM(50, activation='relu'))\n",
        "  model.add(Dense(1))\n",
        "  model.compile(optimizer='adam', loss='mse')\n",
        "  # fit model\n",
        "  model.fit(X, y, epochs=250, verbose=0)\n",
        "  # demonstrate prediction\n",
        "  x_input = raw_seq[1+i:]\n",
        "  x_input = x_input.reshape((1, n_steps, n_features))\n",
        "  yhat = model.predict(x_input, verbose=0)\n",
        "  arrEx.append(yhat[0][0])\n",
        "\n",
        "  if flag==1:\n",
        "    with open('<Soil_Moisture>.pkl', 'wb') as file:\n",
        "      pickle.dump(model, file)\n",
        "  raw_seq = df.iloc[:,3:4]\n",
        "  raw_seq=raw_seq.to_numpy()\n",
        "  raw_seq.shape\n",
        "\n",
        "  #temp\n",
        "  n_steps = 4\n",
        "  # split into samples\n",
        "  X, y = split_sequence(raw_seq, n_steps)\n",
        "  # reshape from [samples, timesteps] into [samples, timesteps, features]\n",
        "  n_features = 1\n",
        "  X = X.reshape((X.shape[0], X.shape[1], n_features))\n",
        "  # define model\n",
        "  model = Sequential()\n",
        "  model.add(LSTM(50, activation='relu', return_sequences=True, input_shape=(n_steps, n_features)))\n",
        "  model.add(LSTM(50, activation='relu'))\n",
        "  model.add(Dense(1))\n",
        "  model.compile(optimizer='adam', loss='mse')\n",
        "  # fit model\n",
        "  model.fit(X, y, epochs=250, verbose=0)\n",
        "  # demonstrate prediction\n",
        "  x_input = raw_seq[1+i:]\n",
        "  x_input = x_input.reshape((1, n_steps, n_features))\n",
        "  yhat = model.predict(x_input, verbose=0)\n",
        "  arrEx.append(yhat[0][0])\n",
        "\n",
        "\n",
        "  if flag==1:\n",
        "    with open('<Temp>.pkl', 'wb') as file:\n",
        "      pickle.dump(model, file)\n",
        "    flag=0\n",
        "    \n",
        "  model = LinearRegression()\n",
        "  model.fit(df, train)\n",
        "\n",
        "\n",
        "  testdata = pd.DataFrame([arrEx])\n",
        "  y_predicted = model.predict(testdata)\n",
        "\n",
        "  print(y_predicted[0])\n",
        "\n",
        "  train=np.append(train,y_predicted[0])\n",
        "\n",
        "  with open('<Crop_Train>.pkl', 'wb') as file:\n",
        "    pickle.dump(model, file)\n",
        "\n",
        "  data_to_append = {}\n",
        "  for i in range(len(df.columns)):\n",
        "    data_to_append[df.columns[i]] = arrEx[i]\n",
        "  df = df.append(data_to_append, ignore_index = True)\n",
        "\n"
      ],
      "execution_count": 111,
      "outputs": [
        {
          "output_type": "stream",
          "text": [
            "(5, 1)\n",
            "4\n",
            "582.4350948610227\n",
            "(6, 1)\n",
            "4\n",
            "718.6832168977489\n",
            "(7, 1)\n",
            "4\n",
            "779.6056954871638\n",
            "(8, 1)\n",
            "4\n",
            "900.5142873695149\n",
            "(9, 1)\n",
            "4\n",
            "1017.4006520388866\n",
            "(10, 1)\n",
            "4\n",
            "1147.2083191360944\n"
          ],
          "name": "stdout"
        }
      ]
    },
    {
      "cell_type": "code",
      "metadata": {
        "id": "xm8jCUSsSdXU",
        "colab_type": "code",
        "colab": {
          "base_uri": "https://localhost:8080/",
          "height": 379
        },
        "outputId": "f2b98b5e-cecc-43bb-9353-0398de3341c7"
      },
      "source": [
        "df"
      ],
      "execution_count": 112,
      "outputs": [
        {
          "output_type": "execute_result",
          "data": {
            "text/html": [
              "<div>\n",
              "<style scoped>\n",
              "    .dataframe tbody tr th:only-of-type {\n",
              "        vertical-align: middle;\n",
              "    }\n",
              "\n",
              "    .dataframe tbody tr th {\n",
              "        vertical-align: top;\n",
              "    }\n",
              "\n",
              "    .dataframe thead th {\n",
              "        text-align: right;\n",
              "    }\n",
              "</style>\n",
              "<table border=\"1\" class=\"dataframe\">\n",
              "  <thead>\n",
              "    <tr style=\"text-align: right;\">\n",
              "      <th></th>\n",
              "      <th>Humidity(kg/kg)</th>\n",
              "      <th>Ndvi</th>\n",
              "      <th>Soil Moisture(kg/m^2)</th>\n",
              "      <th>Temperatur(k)</th>\n",
              "    </tr>\n",
              "  </thead>\n",
              "  <tbody>\n",
              "    <tr>\n",
              "      <th>0</th>\n",
              "      <td>0.011250</td>\n",
              "      <td>4913.295000</td>\n",
              "      <td>57.312445</td>\n",
              "      <td>311.273290</td>\n",
              "    </tr>\n",
              "    <tr>\n",
              "      <th>1</th>\n",
              "      <td>0.008913</td>\n",
              "      <td>4358.205000</td>\n",
              "      <td>23.132269</td>\n",
              "      <td>317.441438</td>\n",
              "    </tr>\n",
              "    <tr>\n",
              "      <th>2</th>\n",
              "      <td>0.010115</td>\n",
              "      <td>4707.235000</td>\n",
              "      <td>25.280542</td>\n",
              "      <td>317.720583</td>\n",
              "    </tr>\n",
              "    <tr>\n",
              "      <th>3</th>\n",
              "      <td>0.009910</td>\n",
              "      <td>4463.045000</td>\n",
              "      <td>25.153470</td>\n",
              "      <td>316.021022</td>\n",
              "    </tr>\n",
              "    <tr>\n",
              "      <th>4</th>\n",
              "      <td>0.010643</td>\n",
              "      <td>5292.015000</td>\n",
              "      <td>35.722370</td>\n",
              "      <td>314.504231</td>\n",
              "    </tr>\n",
              "    <tr>\n",
              "      <th>5</th>\n",
              "      <td>0.010640</td>\n",
              "      <td>5103.129395</td>\n",
              "      <td>19.575768</td>\n",
              "      <td>317.180206</td>\n",
              "    </tr>\n",
              "    <tr>\n",
              "      <th>6</th>\n",
              "      <td>0.010652</td>\n",
              "      <td>5471.859375</td>\n",
              "      <td>21.272587</td>\n",
              "      <td>316.495300</td>\n",
              "    </tr>\n",
              "    <tr>\n",
              "      <th>7</th>\n",
              "      <td>0.010658</td>\n",
              "      <td>5544.673828</td>\n",
              "      <td>22.251909</td>\n",
              "      <td>315.754486</td>\n",
              "    </tr>\n",
              "    <tr>\n",
              "      <th>8</th>\n",
              "      <td>0.010659</td>\n",
              "      <td>5990.986816</td>\n",
              "      <td>23.030577</td>\n",
              "      <td>315.823029</td>\n",
              "    </tr>\n",
              "    <tr>\n",
              "      <th>9</th>\n",
              "      <td>0.010667</td>\n",
              "      <td>6043.897461</td>\n",
              "      <td>15.114432</td>\n",
              "      <td>316.577087</td>\n",
              "    </tr>\n",
              "    <tr>\n",
              "      <th>10</th>\n",
              "      <td>0.010661</td>\n",
              "      <td>6364.569336</td>\n",
              "      <td>15.691612</td>\n",
              "      <td>316.067566</td>\n",
              "    </tr>\n",
              "  </tbody>\n",
              "</table>\n",
              "</div>"
            ],
            "text/plain": [
              "    Humidity(kg/kg)         Ndvi  Soil Moisture(kg/m^2)  Temperatur(k)\n",
              "0          0.011250  4913.295000              57.312445     311.273290\n",
              "1          0.008913  4358.205000              23.132269     317.441438\n",
              "2          0.010115  4707.235000              25.280542     317.720583\n",
              "3          0.009910  4463.045000              25.153470     316.021022\n",
              "4          0.010643  5292.015000              35.722370     314.504231\n",
              "5          0.010640  5103.129395              19.575768     317.180206\n",
              "6          0.010652  5471.859375              21.272587     316.495300\n",
              "7          0.010658  5544.673828              22.251909     315.754486\n",
              "8          0.010659  5990.986816              23.030577     315.823029\n",
              "9          0.010667  6043.897461              15.114432     316.577087\n",
              "10         0.010661  6364.569336              15.691612     316.067566"
            ]
          },
          "metadata": {
            "tags": []
          },
          "execution_count": 112
        }
      ]
    },
    {
      "cell_type": "code",
      "metadata": {
        "id": "bfOTPm_yPEbX",
        "colab_type": "code",
        "colab": {}
      },
      "source": [
        ""
      ],
      "execution_count": 112,
      "outputs": []
    },
    {
      "cell_type": "code",
      "metadata": {
        "id": "bdV2eKF9SdfR",
        "colab_type": "code",
        "colab": {}
      },
      "source": [
        ""
      ],
      "execution_count": 112,
      "outputs": []
    },
    {
      "cell_type": "code",
      "metadata": {
        "id": "RM0wz0MOSPH6",
        "colab_type": "code",
        "colab": {}
      },
      "source": [
        ""
      ],
      "execution_count": 112,
      "outputs": []
    },
    {
      "cell_type": "code",
      "metadata": {
        "id": "I3kN__icQO8b",
        "colab_type": "code",
        "colab": {}
      },
      "source": [
        ""
      ],
      "execution_count": 112,
      "outputs": []
    },
    {
      "cell_type": "code",
      "metadata": {
        "id": "0CzAwNnLQPNT",
        "colab_type": "code",
        "colab": {}
      },
      "source": [
        ""
      ],
      "execution_count": 112,
      "outputs": []
    },
    {
      "cell_type": "code",
      "metadata": {
        "id": "0P_rWIZARHFu",
        "colab_type": "code",
        "colab": {}
      },
      "source": [
        ""
      ],
      "execution_count": 112,
      "outputs": []
    },
    {
      "cell_type": "code",
      "metadata": {
        "id": "2vNf1o5RQPrd",
        "colab_type": "code",
        "colab": {}
      },
      "source": [
        ""
      ],
      "execution_count": 112,
      "outputs": []
    },
    {
      "cell_type": "code",
      "metadata": {
        "id": "0zk1EH-xQP4v",
        "colab_type": "code",
        "colab": {}
      },
      "source": [
        ""
      ],
      "execution_count": 112,
      "outputs": []
    },
    {
      "cell_type": "code",
      "metadata": {
        "id": "dDruybk7QQI2",
        "colab_type": "code",
        "colab": {}
      },
      "source": [
        ""
      ],
      "execution_count": 112,
      "outputs": []
    },
    {
      "cell_type": "code",
      "metadata": {
        "id": "-aOJMbI4QQXE",
        "colab_type": "code",
        "colab": {}
      },
      "source": [
        ""
      ],
      "execution_count": 112,
      "outputs": []
    },
    {
      "cell_type": "code",
      "metadata": {
        "id": "hHoRm5qjQQmE",
        "colab_type": "code",
        "colab": {}
      },
      "source": [
        ""
      ],
      "execution_count": 112,
      "outputs": []
    },
    {
      "cell_type": "code",
      "metadata": {
        "id": "wyHKtGzwQQwy",
        "colab_type": "code",
        "colab": {}
      },
      "source": [
        ""
      ],
      "execution_count": 112,
      "outputs": []
    },
    {
      "cell_type": "code",
      "metadata": {
        "id": "K-LX3LDdQQ9F",
        "colab_type": "code",
        "colab": {}
      },
      "source": [
        ""
      ],
      "execution_count": 112,
      "outputs": []
    },
    {
      "cell_type": "code",
      "metadata": {
        "id": "A3gXcos_QRJy",
        "colab_type": "code",
        "colab": {}
      },
      "source": [
        ""
      ],
      "execution_count": 112,
      "outputs": []
    }
  ]
}

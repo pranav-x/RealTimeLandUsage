{
  "nbformat": 4,
  "nbformat_minor": 0,
  "metadata": {
    "colab": {
      "name": "Untitled1.ipynb",
      "provenance": []
    },
    "kernelspec": {
      "name": "python3",
      "display_name": "Python 3"
    }
  },
  "cells": [
    {
      "cell_type": "code",
      "metadata": {
        "id": "4Da6LWrSVAz2",
        "colab_type": "code",
        "colab": {}
      },
      "source": [
        "from keras.models import Model, Sequential, load_model\n",
        "from keras.optimizers import Nadam, SGD, Adam\n",
        "from keras.layers import Conv2D, MaxPooling2D, Input, Conv1D, MaxPooling3D, Conv3D, ConvLSTM2D, LSTM, AveragePooling2D\n",
        "from keras.layers import Input, LSTM, Embedding, Dense, LeakyReLU, Flatten, Dropout, SeparableConv2D, GlobalAveragePooling3D\n",
        "from keras.layers import TimeDistributed, BatchNormalization\n",
        "from keras import optimizers\n",
        "from keras.callbacks import EarlyStopping\n",
        "from keras import regularizers\n",
        "import pandas as pd\n",
        "import numpy as np\n",
        "from numpy import zeros, newaxis\n",
        "from sklearn import metrics\n",
        "from sklearn.metrics import mean_squared_error\n",
        "from math import sqrt\n",
        "import tensorflow as tf"
      ],
      "execution_count": 32,
      "outputs": []
    },
    {
      "cell_type": "code",
      "metadata": {
        "id": "Rib5ky8pVQN-",
        "colab_type": "code",
        "colab": {}
      },
      "source": [
        "df1 = pd.read_csv(\"SoilMoiPreProcessed2015.csv\",header=None)\n",
        "df2 = pd.read_csv(\"SoilMoiPreProcessed2016.csv\",header=None)\n",
        "df3 = pd.read_csv(\"SoilMoiPreProcessed2017.csv\",header=None)\n",
        "df4 = pd.read_csv(\"SoilMoiPreProcessed2018.csv\",header=None)\n",
        "df5 = pd.read_csv(\"SoilMoiPreProcessed2019.csv\",header=None)"
      ],
      "execution_count": 35,
      "outputs": []
    },
    {
      "cell_type": "code",
      "metadata": {
        "id": "MQmr6-TJVX7t",
        "colab_type": "code",
        "colab": {
          "base_uri": "https://localhost:8080/",
          "height": 214
        },
        "outputId": "75967c55-d091-4615-aebb-161c33f693d4"
      },
      "source": [
        "df3.head()"
      ],
      "execution_count": 10,
      "outputs": [
        {
          "output_type": "execute_result",
          "data": {
            "text/html": [
              "<div>\n",
              "<style scoped>\n",
              "    .dataframe tbody tr th:only-of-type {\n",
              "        vertical-align: middle;\n",
              "    }\n",
              "\n",
              "    .dataframe tbody tr th {\n",
              "        vertical-align: top;\n",
              "    }\n",
              "\n",
              "    .dataframe thead th {\n",
              "        text-align: right;\n",
              "    }\n",
              "</style>\n",
              "<table border=\"1\" class=\"dataframe\">\n",
              "  <thead>\n",
              "    <tr style=\"text-align: right;\">\n",
              "      <th></th>\n",
              "      <th>0</th>\n",
              "      <th>1</th>\n",
              "      <th>2</th>\n",
              "      <th>3</th>\n",
              "      <th>4</th>\n",
              "      <th>5</th>\n",
              "      <th>6</th>\n",
              "      <th>7</th>\n",
              "      <th>8</th>\n",
              "      <th>9</th>\n",
              "      <th>10</th>\n",
              "      <th>11</th>\n",
              "      <th>12</th>\n",
              "      <th>13</th>\n",
              "      <th>14</th>\n",
              "      <th>15</th>\n",
              "      <th>16</th>\n",
              "      <th>17</th>\n",
              "      <th>18</th>\n",
              "      <th>19</th>\n",
              "      <th>20</th>\n",
              "      <th>21</th>\n",
              "      <th>22</th>\n",
              "      <th>23</th>\n",
              "      <th>24</th>\n",
              "      <th>25</th>\n",
              "      <th>26</th>\n",
              "      <th>27</th>\n",
              "      <th>28</th>\n",
              "      <th>29</th>\n",
              "      <th>30</th>\n",
              "      <th>31</th>\n",
              "      <th>32</th>\n",
              "      <th>33</th>\n",
              "      <th>34</th>\n",
              "      <th>35</th>\n",
              "      <th>36</th>\n",
              "      <th>37</th>\n",
              "      <th>38</th>\n",
              "      <th>39</th>\n",
              "      <th>40</th>\n",
              "      <th>41</th>\n",
              "      <th>42</th>\n",
              "      <th>43</th>\n",
              "      <th>44</th>\n",
              "      <th>45</th>\n",
              "      <th>46</th>\n",
              "    </tr>\n",
              "  </thead>\n",
              "  <tbody>\n",
              "    <tr>\n",
              "      <th>0</th>\n",
              "      <td>58.270000</td>\n",
              "      <td>56.132000</td>\n",
              "      <td>52.604000</td>\n",
              "      <td>50.396999</td>\n",
              "      <td>49.888000</td>\n",
              "      <td>45.484001</td>\n",
              "      <td>39.415001</td>\n",
              "      <td>33.519001</td>\n",
              "      <td>29.170000</td>\n",
              "      <td>26.253000</td>\n",
              "      <td>24.216000</td>\n",
              "      <td>23.969</td>\n",
              "      <td>23.162001</td>\n",
              "      <td>22.698000</td>\n",
              "      <td>22.400999</td>\n",
              "      <td>22.386000</td>\n",
              "      <td>22.349001</td>\n",
              "      <td>22.287001</td>\n",
              "      <td>22.243000</td>\n",
              "      <td>22.329000</td>\n",
              "      <td>22.349001</td>\n",
              "      <td>23.204000</td>\n",
              "      <td>31.576000</td>\n",
              "      <td>85.264999</td>\n",
              "      <td>92.894997</td>\n",
              "      <td>104.460999</td>\n",
              "      <td>89.297997</td>\n",
              "      <td>101.561996</td>\n",
              "      <td>106.919998</td>\n",
              "      <td>99.832001</td>\n",
              "      <td>94.125000</td>\n",
              "      <td>100.625000</td>\n",
              "      <td>87.338997</td>\n",
              "      <td>102.307999</td>\n",
              "      <td>85.136002</td>\n",
              "      <td>84.167999</td>\n",
              "      <td>77.317001</td>\n",
              "      <td>71.806000</td>\n",
              "      <td>66.762001</td>\n",
              "      <td>65.987999</td>\n",
              "      <td>62.963001</td>\n",
              "      <td>60.532001</td>\n",
              "      <td>58.327000</td>\n",
              "      <td>58.159000</td>\n",
              "      <td>56.736000</td>\n",
              "      <td>55.038998</td>\n",
              "      <td>52.942001</td>\n",
              "    </tr>\n",
              "    <tr>\n",
              "      <th>1</th>\n",
              "      <td>41.310001</td>\n",
              "      <td>39.239998</td>\n",
              "      <td>43.724998</td>\n",
              "      <td>43.778000</td>\n",
              "      <td>43.022999</td>\n",
              "      <td>38.145000</td>\n",
              "      <td>31.125000</td>\n",
              "      <td>25.799000</td>\n",
              "      <td>23.248999</td>\n",
              "      <td>22.459999</td>\n",
              "      <td>21.446999</td>\n",
              "      <td>21.330</td>\n",
              "      <td>21.021000</td>\n",
              "      <td>20.891001</td>\n",
              "      <td>20.809999</td>\n",
              "      <td>20.819000</td>\n",
              "      <td>20.820999</td>\n",
              "      <td>20.851999</td>\n",
              "      <td>20.857000</td>\n",
              "      <td>20.881001</td>\n",
              "      <td>21.070000</td>\n",
              "      <td>23.729000</td>\n",
              "      <td>24.415001</td>\n",
              "      <td>46.972000</td>\n",
              "      <td>49.862999</td>\n",
              "      <td>46.786999</td>\n",
              "      <td>54.213001</td>\n",
              "      <td>80.977997</td>\n",
              "      <td>84.027000</td>\n",
              "      <td>90.658997</td>\n",
              "      <td>94.419998</td>\n",
              "      <td>89.747002</td>\n",
              "      <td>73.217003</td>\n",
              "      <td>97.876999</td>\n",
              "      <td>77.102997</td>\n",
              "      <td>75.817001</td>\n",
              "      <td>67.682999</td>\n",
              "      <td>62.273998</td>\n",
              "      <td>58.564999</td>\n",
              "      <td>57.987999</td>\n",
              "      <td>55.695000</td>\n",
              "      <td>53.612000</td>\n",
              "      <td>51.541000</td>\n",
              "      <td>51.355000</td>\n",
              "      <td>49.830002</td>\n",
              "      <td>48.070999</td>\n",
              "      <td>45.570999</td>\n",
              "    </tr>\n",
              "    <tr>\n",
              "      <th>2</th>\n",
              "      <td>55.883999</td>\n",
              "      <td>54.286999</td>\n",
              "      <td>50.931999</td>\n",
              "      <td>49.112999</td>\n",
              "      <td>48.653999</td>\n",
              "      <td>44.766998</td>\n",
              "      <td>39.489998</td>\n",
              "      <td>34.642998</td>\n",
              "      <td>31.491999</td>\n",
              "      <td>29.587000</td>\n",
              "      <td>28.445000</td>\n",
              "      <td>28.320</td>\n",
              "      <td>27.966000</td>\n",
              "      <td>27.725000</td>\n",
              "      <td>27.601000</td>\n",
              "      <td>27.623999</td>\n",
              "      <td>27.556000</td>\n",
              "      <td>27.497000</td>\n",
              "      <td>27.485001</td>\n",
              "      <td>27.702000</td>\n",
              "      <td>27.952999</td>\n",
              "      <td>28.339001</td>\n",
              "      <td>33.188999</td>\n",
              "      <td>94.658997</td>\n",
              "      <td>102.950996</td>\n",
              "      <td>97.916000</td>\n",
              "      <td>98.545998</td>\n",
              "      <td>108.209999</td>\n",
              "      <td>108.674004</td>\n",
              "      <td>107.498001</td>\n",
              "      <td>99.758003</td>\n",
              "      <td>97.111000</td>\n",
              "      <td>89.456001</td>\n",
              "      <td>104.930000</td>\n",
              "      <td>87.341003</td>\n",
              "      <td>86.396004</td>\n",
              "      <td>79.851997</td>\n",
              "      <td>74.324997</td>\n",
              "      <td>68.892998</td>\n",
              "      <td>68.091003</td>\n",
              "      <td>65.039001</td>\n",
              "      <td>62.673000</td>\n",
              "      <td>60.658001</td>\n",
              "      <td>60.502998</td>\n",
              "      <td>59.243999</td>\n",
              "      <td>57.928001</td>\n",
              "      <td>56.349998</td>\n",
              "    </tr>\n",
              "    <tr>\n",
              "      <th>3</th>\n",
              "      <td>57.676998</td>\n",
              "      <td>55.741001</td>\n",
              "      <td>51.415001</td>\n",
              "      <td>50.766998</td>\n",
              "      <td>50.653999</td>\n",
              "      <td>45.394001</td>\n",
              "      <td>38.021000</td>\n",
              "      <td>31.889999</td>\n",
              "      <td>27.462999</td>\n",
              "      <td>25.348999</td>\n",
              "      <td>23.643000</td>\n",
              "      <td>23.420</td>\n",
              "      <td>22.834000</td>\n",
              "      <td>22.635000</td>\n",
              "      <td>22.629999</td>\n",
              "      <td>22.907000</td>\n",
              "      <td>22.961000</td>\n",
              "      <td>23.900999</td>\n",
              "      <td>24.757999</td>\n",
              "      <td>27.150000</td>\n",
              "      <td>27.868999</td>\n",
              "      <td>30.996000</td>\n",
              "      <td>32.328999</td>\n",
              "      <td>116.886002</td>\n",
              "      <td>125.552002</td>\n",
              "      <td>113.019997</td>\n",
              "      <td>110.814003</td>\n",
              "      <td>112.734001</td>\n",
              "      <td>115.848000</td>\n",
              "      <td>113.105003</td>\n",
              "      <td>113.716003</td>\n",
              "      <td>115.029999</td>\n",
              "      <td>96.820999</td>\n",
              "      <td>108.635002</td>\n",
              "      <td>96.501999</td>\n",
              "      <td>97.031998</td>\n",
              "      <td>89.608002</td>\n",
              "      <td>83.216003</td>\n",
              "      <td>78.438004</td>\n",
              "      <td>77.639999</td>\n",
              "      <td>74.345001</td>\n",
              "      <td>71.251999</td>\n",
              "      <td>67.836998</td>\n",
              "      <td>67.617996</td>\n",
              "      <td>65.436996</td>\n",
              "      <td>62.813999</td>\n",
              "      <td>60.724998</td>\n",
              "    </tr>\n",
              "    <tr>\n",
              "      <th>4</th>\n",
              "      <td>57.630001</td>\n",
              "      <td>55.697998</td>\n",
              "      <td>52.355000</td>\n",
              "      <td>49.362999</td>\n",
              "      <td>48.765999</td>\n",
              "      <td>44.728001</td>\n",
              "      <td>39.188000</td>\n",
              "      <td>33.728001</td>\n",
              "      <td>29.556999</td>\n",
              "      <td>27.150999</td>\n",
              "      <td>25.135000</td>\n",
              "      <td>24.885</td>\n",
              "      <td>24.091000</td>\n",
              "      <td>23.688999</td>\n",
              "      <td>23.448000</td>\n",
              "      <td>23.604000</td>\n",
              "      <td>23.604000</td>\n",
              "      <td>23.573999</td>\n",
              "      <td>23.545000</td>\n",
              "      <td>23.563000</td>\n",
              "      <td>23.593000</td>\n",
              "      <td>26.308001</td>\n",
              "      <td>33.702000</td>\n",
              "      <td>91.178001</td>\n",
              "      <td>76.680000</td>\n",
              "      <td>88.292000</td>\n",
              "      <td>85.945000</td>\n",
              "      <td>96.024002</td>\n",
              "      <td>102.296997</td>\n",
              "      <td>107.151001</td>\n",
              "      <td>96.266998</td>\n",
              "      <td>102.153999</td>\n",
              "      <td>87.178001</td>\n",
              "      <td>102.333000</td>\n",
              "      <td>86.046997</td>\n",
              "      <td>85.194000</td>\n",
              "      <td>79.139000</td>\n",
              "      <td>74.154999</td>\n",
              "      <td>69.996002</td>\n",
              "      <td>69.351997</td>\n",
              "      <td>66.750999</td>\n",
              "      <td>64.359001</td>\n",
              "      <td>62.202000</td>\n",
              "      <td>62.039001</td>\n",
              "      <td>60.564999</td>\n",
              "      <td>58.799999</td>\n",
              "      <td>56.635998</td>\n",
              "    </tr>\n",
              "  </tbody>\n",
              "</table>\n",
              "</div>"
            ],
            "text/plain": [
              "          0          1          2   ...         44         45         46\n",
              "0  58.270000  56.132000  52.604000  ...  56.736000  55.038998  52.942001\n",
              "1  41.310001  39.239998  43.724998  ...  49.830002  48.070999  45.570999\n",
              "2  55.883999  54.286999  50.931999  ...  59.243999  57.928001  56.349998\n",
              "3  57.676998  55.741001  51.415001  ...  65.436996  62.813999  60.724998\n",
              "4  57.630001  55.697998  52.355000  ...  60.564999  58.799999  56.635998\n",
              "\n",
              "[5 rows x 47 columns]"
            ]
          },
          "metadata": {
            "tags": []
          },
          "execution_count": 10
        }
      ]
    },
    {
      "cell_type": "code",
      "metadata": {
        "id": "Sjk4dLVlVa6g",
        "colab_type": "code",
        "colab": {
          "base_uri": "https://localhost:8080/",
          "height": 977
        },
        "outputId": "57270f02-0f40-44ca-9598-df43cfb4198f"
      },
      "source": [
        "df3.info()"
      ],
      "execution_count": 11,
      "outputs": [
        {
          "output_type": "stream",
          "text": [
            "<class 'pandas.core.frame.DataFrame'>\n",
            "RangeIndex: 100 entries, 0 to 99\n",
            "Data columns (total 47 columns):\n",
            " #   Column  Non-Null Count  Dtype  \n",
            "---  ------  --------------  -----  \n",
            " 0   0       100 non-null    float64\n",
            " 1   1       100 non-null    float64\n",
            " 2   2       100 non-null    float64\n",
            " 3   3       100 non-null    float64\n",
            " 4   4       100 non-null    float64\n",
            " 5   5       100 non-null    float64\n",
            " 6   6       100 non-null    float64\n",
            " 7   7       100 non-null    float64\n",
            " 8   8       100 non-null    float64\n",
            " 9   9       100 non-null    float64\n",
            " 10  10      100 non-null    float64\n",
            " 11  11      100 non-null    float64\n",
            " 12  12      100 non-null    float64\n",
            " 13  13      100 non-null    float64\n",
            " 14  14      100 non-null    float64\n",
            " 15  15      100 non-null    float64\n",
            " 16  16      100 non-null    float64\n",
            " 17  17      100 non-null    float64\n",
            " 18  18      100 non-null    float64\n",
            " 19  19      100 non-null    float64\n",
            " 20  20      100 non-null    float64\n",
            " 21  21      100 non-null    float64\n",
            " 22  22      100 non-null    float64\n",
            " 23  23      100 non-null    float64\n",
            " 24  24      100 non-null    float64\n",
            " 25  25      100 non-null    float64\n",
            " 26  26      100 non-null    float64\n",
            " 27  27      100 non-null    float64\n",
            " 28  28      100 non-null    float64\n",
            " 29  29      100 non-null    float64\n",
            " 30  30      100 non-null    float64\n",
            " 31  31      100 non-null    float64\n",
            " 32  32      100 non-null    float64\n",
            " 33  33      100 non-null    float64\n",
            " 34  34      100 non-null    float64\n",
            " 35  35      100 non-null    float64\n",
            " 36  36      100 non-null    float64\n",
            " 37  37      100 non-null    float64\n",
            " 38  38      100 non-null    float64\n",
            " 39  39      100 non-null    float64\n",
            " 40  40      100 non-null    float64\n",
            " 41  41      100 non-null    float64\n",
            " 42  42      100 non-null    float64\n",
            " 43  43      100 non-null    float64\n",
            " 44  44      100 non-null    float64\n",
            " 45  45      100 non-null    float64\n",
            " 46  46      100 non-null    float64\n",
            "dtypes: float64(47)\n",
            "memory usage: 36.8 KB\n"
          ],
          "name": "stdout"
        }
      ]
    },
    {
      "cell_type": "code",
      "metadata": {
        "id": "Bn9jwNyqWYbA",
        "colab_type": "code",
        "colab": {
          "base_uri": "https://localhost:8080/",
          "height": 248
        },
        "outputId": "6c759fb9-2088-474c-8875-705aa7a798fb"
      },
      "source": [
        "df1.to_numpy()\n",
        "df2.to_numpy()\n",
        "df3.to_numpy()\n",
        "df4.to_numpy()\n"
      ],
      "execution_count": 12,
      "outputs": [
        {
          "output_type": "execute_result",
          "data": {
            "text/plain": [
              "array([[52.70999908, 50.82699966, 47.47200012, ..., 59.0870018 ,\n",
              "        57.37900162, 55.16699982],\n",
              "       [45.10699844, 42.89199829, 39.09700012, ..., 56.26900101,\n",
              "        54.79499817, 52.53300095],\n",
              "       [56.15499878, 54.64199829, 51.91199875, ..., 60.09999847,\n",
              "        58.86299896, 57.01100159],\n",
              "       ...,\n",
              "       [39.66199875, 37.09000015, 33.02799988, ..., 59.14500046,\n",
              "        57.11399841, 54.18999863],\n",
              "       [55.07299805, 53.18700027, 49.85200119, ..., 53.06600189,\n",
              "        51.22200012, 48.93600082],\n",
              "       [48.75099945, 45.89400101, 41.0890007 , ..., 58.09199905,\n",
              "        56.1570015 , 53.2879982 ]])"
            ]
          },
          "metadata": {
            "tags": []
          },
          "execution_count": 12
        }
      ]
    },
    {
      "cell_type": "code",
      "metadata": {
        "id": "B2lajTeTaEom",
        "colab_type": "code",
        "colab": {
          "base_uri": "https://localhost:8080/",
          "height": 248
        },
        "outputId": "e9bfd3d8-ae4b-4a09-d054-a85a6bf4533f"
      },
      "source": [
        "df5.to_numpy()"
      ],
      "execution_count": 36,
      "outputs": [
        {
          "output_type": "execute_result",
          "data": {
            "text/plain": [
              "array([[54.66500092, 52.11100006, 54.0019989 , ..., 55.74100113,\n",
              "        55.51599884, 53.46910477],\n",
              "       [51.9659996 , 49.31900024, 49.93799973, ..., 62.38499832,\n",
              "        60.3030014 , 55.79510117],\n",
              "       [56.59000015, 54.52899933, 53.34899902, ..., 56.98540878,\n",
              "        56.76699829, 55.47810364],\n",
              "       ...,\n",
              "       [53.50600052, 50.40299988, 58.68999863, ..., 44.01800156,\n",
              "        43.87599945, 42.25110245],\n",
              "       [48.43700027, 45.91899872, 62.13899994, ..., 80.90724182,\n",
              "        74.56800079, 70.81909943],\n",
              "       [52.60900116, 49.39400101, 48.92699814, ..., 47.12099838,\n",
              "        46.91699982, 44.98810196]])"
            ]
          },
          "metadata": {
            "tags": []
          },
          "execution_count": 36
        }
      ]
    },
    {
      "cell_type": "code",
      "metadata": {
        "id": "xXuvstqPaIwr",
        "colab_type": "code",
        "colab": {}
      },
      "source": [
        " df1=np.asarray(df1).reshape(47,1,100,1)\n",
        " df2=np.asarray(df2).reshape(47,1,100,1)\n",
        " df3=np.asarray(df3).reshape(47,1,100,1)\n",
        " df4=np.asarray(df4).reshape(47,1,100,1)\n"
      ],
      "execution_count": 13,
      "outputs": []
    },
    {
      "cell_type": "code",
      "metadata": {
        "id": "Zyc1LT_waQWL",
        "colab_type": "code",
        "colab": {}
      },
      "source": [
        " df5=np.asarray(df5).reshape(47,1,100,1)\n"
      ],
      "execution_count": 37,
      "outputs": []
    },
    {
      "cell_type": "code",
      "metadata": {
        "id": "PzZ7EVI7b_gw",
        "colab_type": "code",
        "colab": {}
      },
      "source": [
        "a1rr=[]"
      ],
      "execution_count": 14,
      "outputs": []
    },
    {
      "cell_type": "code",
      "metadata": {
        "id": "nd0fTrWId9pE",
        "colab_type": "code",
        "colab": {}
      },
      "source": [
        "a1rr.append(df1)\n",
        "a1rr.append(df2)\n",
        "a1rr.append(df3)\n",
        "a1rr.append(df4)\n"
      ],
      "execution_count": 15,
      "outputs": []
    },
    {
      "cell_type": "code",
      "metadata": {
        "id": "PLzQsFWwhyiE",
        "colab_type": "code",
        "colab": {}
      },
      "source": [
        "test=[]\n",
        "test.append(df5)"
      ],
      "execution_count": 38,
      "outputs": []
    },
    {
      "cell_type": "code",
      "metadata": {
        "id": "FxcH4uZJn5Kq",
        "colab_type": "code",
        "colab": {}
      },
      "source": [
        "test=np.array(test)"
      ],
      "execution_count": 39,
      "outputs": []
    },
    {
      "cell_type": "code",
      "metadata": {
        "id": "S6DXO8NDeSr3",
        "colab_type": "code",
        "colab": {
          "base_uri": "https://localhost:8080/",
          "height": 1000
        },
        "outputId": "8eba38bc-400c-4b00-a6ac-46fbf366928f"
      },
      "source": [
        "a1rr"
      ],
      "execution_count": 16,
      "outputs": [
        {
          "output_type": "execute_result",
          "data": {
            "text/plain": [
              "[array([[[[65.13534546],\n",
              "          [61.17545319],\n",
              "          [68.21800232],\n",
              "          ...,\n",
              "          [63.61600113],\n",
              "          [61.95600128],\n",
              "          [59.78330231]]],\n",
              " \n",
              " \n",
              "        [[[53.22431946],\n",
              "          [74.61547852],\n",
              "          [68.06401062],\n",
              "          ...,\n",
              "          [65.85830688],\n",
              "          [57.30754852],\n",
              "          [57.25194168]]],\n",
              " \n",
              " \n",
              "        [[[52.63008499],\n",
              "          [50.11564636],\n",
              "          [48.22653961],\n",
              "          ...,\n",
              "          [56.04994965],\n",
              "          [52.97000122],\n",
              "          [51.02500153]]],\n",
              " \n",
              " \n",
              "        ...,\n",
              " \n",
              " \n",
              "        [[[94.22000122],\n",
              "          [88.8030014 ],\n",
              "          [84.18099976],\n",
              "          ...,\n",
              "          [94.86599731],\n",
              "          [88.44599915],\n",
              "          [75.22499847]]],\n",
              " \n",
              " \n",
              "        [[[74.22299957],\n",
              "          [65.3219986 ],\n",
              "          [60.12599945],\n",
              "          ...,\n",
              "          [68.04599762],\n",
              "          [67.19999695],\n",
              "          [63.06399918]]],\n",
              " \n",
              " \n",
              "        [[[60.0909996 ],\n",
              "          [57.83900452],\n",
              "          [57.64500809],\n",
              "          ...,\n",
              "          [54.28300095],\n",
              "          [51.63105011],\n",
              "          [48.1742363 ]]]]), array([[[[ 33.18293762],\n",
              "          [ 30.88591576],\n",
              "          [ 28.80766487],\n",
              "          ...,\n",
              "          [ 33.96773148],\n",
              "          [ 33.44319534],\n",
              "          [ 31.37687492]]],\n",
              " \n",
              " \n",
              "        [[[ 29.18719292],\n",
              "          [ 27.95657539],\n",
              "          [ 27.8679142 ],\n",
              "          ...,\n",
              "          [ 25.28607178],\n",
              "          [ 23.85379791],\n",
              "          [ 23.66275787]]],\n",
              " \n",
              " \n",
              "        [[[ 23.11566544],\n",
              "          [ 22.82796478],\n",
              "          [ 22.65031433],\n",
              "          ...,\n",
              "          [ 20.77737617],\n",
              "          [ 20.73609924],\n",
              "          [ 21.18799973]]],\n",
              " \n",
              " \n",
              "        ...,\n",
              " \n",
              " \n",
              "        [[[ 92.74700165],\n",
              "          [ 91.27200317],\n",
              "          [ 91.30999756],\n",
              "          ...,\n",
              "          [ 91.45600128],\n",
              "          [107.71099854],\n",
              "          [ 98.63899994]]],\n",
              " \n",
              " \n",
              "        [[[ 99.55799866],\n",
              "          [ 95.6190033 ],\n",
              "          [ 82.19300079],\n",
              "          ...,\n",
              "          [ 62.14300156],\n",
              "          [ 61.91999817],\n",
              "          [ 60.80400085]]],\n",
              " \n",
              " \n",
              "        [[[ 59.53300095],\n",
              "          [ 57.70199966],\n",
              "          [ 57.54499817],\n",
              "          ...,\n",
              "          [ 58.72100067],\n",
              "          [ 56.37799835],\n",
              "          [ 52.9659996 ]]]]), array([[[[ 58.27000046],\n",
              "          [ 56.13199997],\n",
              "          [ 52.60400009],\n",
              "          ...,\n",
              "          [ 49.11299896],\n",
              "          [ 48.65399933],\n",
              "          [ 44.76699829]]],\n",
              " \n",
              " \n",
              "        [[[ 39.48999786],\n",
              "          [ 34.64299774],\n",
              "          [ 31.49199867],\n",
              "          ...,\n",
              "          [ 27.15099907],\n",
              "          [ 25.13500023],\n",
              "          [ 24.88500023]]],\n",
              " \n",
              " \n",
              "        [[[ 24.0909996 ],\n",
              "          [ 23.68899918],\n",
              "          [ 23.44799995],\n",
              "          ...,\n",
              "          [ 22.6269989 ],\n",
              "          [ 22.4829998 ],\n",
              "          [ 22.36199951]]],\n",
              " \n",
              " \n",
              "        ...,\n",
              " \n",
              " \n",
              "        [[[111.18900299],\n",
              "          [110.5490036 ],\n",
              "          [109.80599976],\n",
              "          ...,\n",
              "          [ 92.48500061],\n",
              "          [104.1989975 ],\n",
              "          [ 91.73799896]]],\n",
              " \n",
              " \n",
              "        [[[ 89.84799957],\n",
              "          [ 82.36100006],\n",
              "          [ 80.47299957],\n",
              "          ...,\n",
              "          [ 54.33800125],\n",
              "          [ 53.85300064],\n",
              "          [ 51.82300186]]],\n",
              " \n",
              " \n",
              "        [[[ 49.83000183],\n",
              "          [ 47.56800079],\n",
              "          [ 47.34999847],\n",
              "          ...,\n",
              "          [ 54.88499832],\n",
              "          [ 52.52000046],\n",
              "          [ 49.32899857]]]]), array([[[[ 52.70999908],\n",
              "          [ 50.82699966],\n",
              "          [ 47.47200012],\n",
              "          ...,\n",
              "          [ 48.40499878],\n",
              "          [ 47.40800095],\n",
              "          [ 43.32400131]]],\n",
              " \n",
              " \n",
              "        [[[ 39.45100021],\n",
              "          [ 35.57299805],\n",
              "          [ 32.22200012],\n",
              "          ...,\n",
              "          [ 26.96399879],\n",
              "          [ 24.86999893],\n",
              "          [ 24.59199905]]],\n",
              " \n",
              " \n",
              "        [[[ 24.01799965],\n",
              "          [ 23.87000084],\n",
              "          [ 23.66399956],\n",
              "          ...,\n",
              "          [ 22.66699982],\n",
              "          [ 22.49199867],\n",
              "          [ 22.35299873]]],\n",
              " \n",
              " \n",
              "        ...,\n",
              " \n",
              " \n",
              "        [[[112.3690033 ],\n",
              "          [103.7460022 ],\n",
              "          [114.29299927],\n",
              "          ...,\n",
              "          [ 95.3690033 ],\n",
              "          [ 94.17299652],\n",
              "          [ 82.50499725]]],\n",
              " \n",
              " \n",
              "        [[[ 81.3809967 ],\n",
              "          [ 73.43199921],\n",
              "          [ 66.29199982],\n",
              "          ...,\n",
              "          [ 66.30999756],\n",
              "          [ 65.86499786],\n",
              "          [ 64.08999634]]],\n",
              " \n",
              " \n",
              "        [[[ 62.54299927],\n",
              "          [ 60.91400146],\n",
              "          [ 60.72000122],\n",
              "          ...,\n",
              "          [ 58.09199905],\n",
              "          [ 56.1570015 ],\n",
              "          [ 53.2879982 ]]]])]"
            ]
          },
          "metadata": {
            "tags": []
          },
          "execution_count": 16
        }
      ]
    },
    {
      "cell_type": "code",
      "metadata": {
        "id": "jpMGWciye_YY",
        "colab_type": "code",
        "colab": {}
      },
      "source": [
        "a1rr=np.array(a1rr)"
      ],
      "execution_count": 17,
      "outputs": []
    },
    {
      "cell_type": "code",
      "metadata": {
        "id": "2AZeyZMsfBrw",
        "colab_type": "code",
        "colab": {
          "base_uri": "https://localhost:8080/",
          "height": 35
        },
        "outputId": "dc3744a8-f5ff-4d33-8407-0f2039ec408e"
      },
      "source": [
        "a1rr.shape"
      ],
      "execution_count": 18,
      "outputs": [
        {
          "output_type": "execute_result",
          "data": {
            "text/plain": [
              "(4, 47, 1, 100, 1)"
            ]
          },
          "metadata": {
            "tags": []
          },
          "execution_count": 18
        }
      ]
    },
    {
      "cell_type": "code",
      "metadata": {
        "id": "1iIZylO8idOT",
        "colab_type": "code",
        "colab": {}
      },
      "source": [
        "y = np.array([224.2, 254.3, 300.56,357.19])\n"
      ],
      "execution_count": 19,
      "outputs": []
    },
    {
      "cell_type": "code",
      "metadata": {
        "id": "SG-Xe4Xvi8oe",
        "colab_type": "code",
        "colab": {
          "base_uri": "https://localhost:8080/",
          "height": 35
        },
        "outputId": "62964747-4de6-4339-d279-7171c9971281"
      },
      "source": [
        "y.shape"
      ],
      "execution_count": 20,
      "outputs": [
        {
          "output_type": "execute_result",
          "data": {
            "text/plain": [
              "(4,)"
            ]
          },
          "metadata": {
            "tags": []
          },
          "execution_count": 20
        }
      ]
    },
    {
      "cell_type": "code",
      "metadata": {
        "id": "-oW4yq4ei9Kl",
        "colab_type": "code",
        "colab": {
          "base_uri": "https://localhost:8080/",
          "height": 35
        },
        "outputId": "7a3efb5b-cecd-4f5a-8032-fdd51d7f4cb4"
      },
      "source": [
        "test.shape"
      ],
      "execution_count": 40,
      "outputs": [
        {
          "output_type": "execute_result",
          "data": {
            "text/plain": [
              "(1, 47, 1, 100, 1)"
            ]
          },
          "metadata": {
            "tags": []
          },
          "execution_count": 40
        }
      ]
    },
    {
      "cell_type": "code",
      "metadata": {
        "id": "WxkqRNLxfEl2",
        "colab_type": "code",
        "colab": {}
      },
      "source": [
        "def CNN_LSTM(frames, location, features):\n",
        "\n",
        "        frames_input = Input(shape=(frames, 1, location, features))\n",
        "        vision_model = Sequential()\n",
        "        vision_model.add(Conv2D(64, (1, 2), activation='relu', padding='same', input_shape=(1, location, features)))\n",
        "        vision_model.add(BatchNormalization())\n",
        "        vision_model.add(MaxPooling2D((1, 2)))\n",
        "        vision_model.add(Flatten())\n",
        "        vision_model.add(BatchNormalization())\n",
        "        encoded_frame_sequence = TimeDistributed(vision_model)(frames_input) # the output will be a sequence of vectors\n",
        "        encoded_video = LSTM(256, activation='tanh', return_sequences=True)(encoded_frame_sequence)  # the output will be a vector\n",
        "        \n",
        "        fc2 = Dense(64, activation='relu', kernel_regularizer=regularizers.l2(0.05))(encoded_video)\n",
        "        out = Flatten()(fc2)\n",
        "        out = Dropout(0.5)(out)\n",
        "        output = Dense(1, activation='relu')(out)\n",
        "        CNN_LSTM = Model(inputs=frames_input, outputs=output)\n",
        "        return CNN_LSTM\n",
        "\n"
      ],
      "execution_count": 58,
      "outputs": []
    },
    {
      "cell_type": "code",
      "metadata": {
        "id": "MjA_HX0tjDqp",
        "colab_type": "code",
        "colab": {}
      },
      "source": [
        "model = CNN_LSTM(47,100,1)"
      ],
      "execution_count": 59,
      "outputs": []
    },
    {
      "cell_type": "code",
      "metadata": {
        "id": "tR0_dhQ-jOc4",
        "colab_type": "code",
        "colab": {
          "base_uri": "https://localhost:8080/",
          "height": 408
        },
        "outputId": "40721855-dbd8-41d1-d98d-a5028eeccc02"
      },
      "source": [
        "model.summary()"
      ],
      "execution_count": 60,
      "outputs": [
        {
          "output_type": "stream",
          "text": [
            "Model: \"model_4\"\n",
            "_________________________________________________________________\n",
            "Layer (type)                 Output Shape              Param #   \n",
            "=================================================================\n",
            "input_4 (InputLayer)         (None, 47, 1, 100, 1)     0         \n",
            "_________________________________________________________________\n",
            "time_distributed_4 (TimeDist (None, 47, 3200)          13248     \n",
            "_________________________________________________________________\n",
            "lstm_4 (LSTM)                (None, 47, 256)           3539968   \n",
            "_________________________________________________________________\n",
            "dense_7 (Dense)              (None, 47, 64)            16448     \n",
            "_________________________________________________________________\n",
            "flatten_8 (Flatten)          (None, 3008)              0         \n",
            "_________________________________________________________________\n",
            "dropout_4 (Dropout)          (None, 3008)              0         \n",
            "_________________________________________________________________\n",
            "dense_8 (Dense)              (None, 1)                 3009      \n",
            "=================================================================\n",
            "Total params: 3,572,673\n",
            "Trainable params: 3,566,145\n",
            "Non-trainable params: 6,528\n",
            "_________________________________________________________________\n"
          ],
          "name": "stdout"
        }
      ]
    },
    {
      "cell_type": "code",
      "metadata": {
        "id": "XxMtGxB2jUpl",
        "colab_type": "code",
        "colab": {}
      },
      "source": [
        "model.compile(\n",
        "    optimizer='sgd',\n",
        "    loss='mse',\n",
        "    metrics=[tf.keras.metrics.RootMeanSquaredError()])"
      ],
      "execution_count": 61,
      "outputs": []
    },
    {
      "cell_type": "code",
      "metadata": {
        "id": "wQ_OVBGljgKG",
        "colab_type": "code",
        "colab": {
          "base_uri": "https://localhost:8080/",
          "height": 924
        },
        "outputId": "2711b088-d5ff-4bc1-ae4e-ef31b00b8816"
      },
      "source": [
        "model.fit(a1rr, y,epochs = 25)\n"
      ],
      "execution_count": 64,
      "outputs": [
        {
          "output_type": "stream",
          "text": [
            "Epoch 1/25\n",
            "4/4 [==============================] - 2s 472ms/step - loss: 5602.7295 - root_mean_squared_error: 210.7005\n",
            "Epoch 2/25\n",
            "4/4 [==============================] - 2s 450ms/step - loss: 5056642048.0000 - root_mean_squared_error: 41055.7656\n",
            "Epoch 3/25\n",
            "4/4 [==============================] - 2s 428ms/step - loss: 133761482752.0000 - root_mean_squared_error: 35555.6289\n",
            "Epoch 4/25\n",
            "4/4 [==============================] - 2s 447ms/step - loss: 133494136832.0000 - root_mean_squared_error: 31802.1836\n",
            "Epoch 5/25\n",
            "4/4 [==============================] - 2s 441ms/step - loss: 133227274240.0000 - root_mean_squared_error: 29031.5273\n",
            "Epoch 6/25\n",
            "4/4 [==============================] - 2s 447ms/step - loss: 132960911360.0000 - root_mean_squared_error: 26878.1934\n",
            "Epoch 7/25\n",
            "4/4 [==============================] - 2s 429ms/step - loss: 132695146496.0000 - root_mean_squared_error: 25142.4570\n",
            "Epoch 8/25\n",
            "4/4 [==============================] - 2s 441ms/step - loss: 132429881344.0000 - root_mean_squared_error: 23704.7305\n",
            "Epoch 9/25\n",
            "4/4 [==============================] - 2s 430ms/step - loss: 132165156864.0000 - root_mean_squared_error: 22488.4668\n",
            "Epoch 10/25\n",
            "4/4 [==============================] - 2s 449ms/step - loss: 131900932096.0000 - root_mean_squared_error: 21442.0898\n",
            "Epoch 11/25\n",
            "4/4 [==============================] - 2s 437ms/step - loss: 131637288960.0000 - root_mean_squared_error: 20529.4062\n",
            "Epoch 12/25\n",
            "4/4 [==============================] - 2s 445ms/step - loss: 131374153728.0000 - root_mean_squared_error: 19724.1797\n",
            "Epoch 13/25\n",
            "4/4 [==============================] - 2s 431ms/step - loss: 131111534592.0000 - root_mean_squared_error: 19006.8516\n",
            "Epoch 14/25\n",
            "4/4 [==============================] - 2s 445ms/step - loss: 130849447936.0000 - root_mean_squared_error: 18362.5137\n",
            "Epoch 15/25\n",
            "4/4 [==============================] - 2s 427ms/step - loss: 130587877376.0000 - root_mean_squared_error: 17779.5742\n",
            "Epoch 16/25\n",
            "4/4 [==============================] - 2s 426ms/step - loss: 130326822912.0000 - root_mean_squared_error: 17248.8633\n",
            "Epoch 17/25\n",
            "4/4 [==============================] - 2s 447ms/step - loss: 130066317312.0000 - root_mean_squared_error: 16763.0195\n",
            "Epoch 18/25\n",
            "4/4 [==============================] - 2s 433ms/step - loss: 129806319616.0000 - root_mean_squared_error: 16316.0605\n",
            "Epoch 19/25\n",
            "4/4 [==============================] - 2s 445ms/step - loss: 129546797056.0000 - root_mean_squared_error: 15903.0596\n",
            "Epoch 20/25\n",
            "4/4 [==============================] - 2s 423ms/step - loss: 129287864320.0000 - root_mean_squared_error: 15519.9248\n",
            "Epoch 21/25\n",
            "4/4 [==============================] - 2s 444ms/step - loss: 129029406720.0000 - root_mean_squared_error: 15163.2227\n",
            "Epoch 22/25\n",
            "4/4 [==============================] - 2s 428ms/step - loss: 128771465216.0000 - root_mean_squared_error: 14830.0469\n",
            "Epoch 23/25\n",
            "4/4 [==============================] - 2s 457ms/step - loss: 128514072576.0000 - root_mean_squared_error: 14517.9199\n",
            "Epoch 24/25\n",
            "4/4 [==============================] - 2s 428ms/step - loss: 128257179648.0000 - root_mean_squared_error: 14224.7158\n",
            "Epoch 25/25\n",
            "4/4 [==============================] - 2s 444ms/step - loss: 128000794624.0000 - root_mean_squared_error: 13948.5967\n"
          ],
          "name": "stdout"
        },
        {
          "output_type": "execute_result",
          "data": {
            "text/plain": [
              "<keras.callbacks.callbacks.History at 0x7f7809fe5f98>"
            ]
          },
          "metadata": {
            "tags": []
          },
          "execution_count": 64
        }
      ]
    },
    {
      "cell_type": "code",
      "metadata": {
        "id": "CciWPWIllCHa",
        "colab_type": "code",
        "colab": {
          "base_uri": "https://localhost:8080/",
          "height": 35
        },
        "outputId": "25f3775d-c1a8-4897-98bc-39be6b58d9e2"
      },
      "source": [
        "model.predict(test)"
      ],
      "execution_count": 63,
      "outputs": [
        {
          "output_type": "execute_result",
          "data": {
            "text/plain": [
              "array([[117.812355]], dtype=float32)"
            ]
          },
          "metadata": {
            "tags": []
          },
          "execution_count": 63
        }
      ]
    },
    {
      "cell_type": "code",
      "metadata": {
        "id": "DI2cs33coDwN",
        "colab_type": "code",
        "colab": {
          "base_uri": "https://localhost:8080/",
          "height": 1000
        },
        "outputId": "0a3bd2ab-6a67-4a3f-fe8c-13898f852053"
      },
      "source": [
        "model.weights"
      ],
      "execution_count": 51,
      "outputs": [
        {
          "output_type": "execute_result",
          "data": {
            "text/plain": [
              "[<tf.Variable 'conv2d_2/kernel:0' shape=(1, 2, 1, 64) dtype=float32, numpy=\n",
              " array([[[[-3.73141813e+00,  1.44239277e-01, -8.51393738e+01,\n",
              "            1.00635176e+01, -4.83147097e+00, -3.86218488e-01,\n",
              "           -4.51766670e-01, -1.03122547e-01,  1.62892890e+00,\n",
              "           -1.26631677e+00,  4.93960202e-01, -9.73426700e-02,\n",
              "           -1.82439613e+00,  1.97052136e-02, -1.21504568e-01,\n",
              "           -5.92936401e+02, -3.64042807e+00, -4.34899426e+00,\n",
              "           -4.77587044e-01, -1.09377170e+00, -1.84610412e-01,\n",
              "           -8.49930942e-02,  5.70250563e-02, -6.80947751e-02,\n",
              "            1.03763742e+01,  1.09488294e-01, -8.77537280e-02,\n",
              "            4.11927795e+00, -1.18855037e-01,  4.60361242e-01,\n",
              "           -5.49063087e-02, -1.94712937e-01, -4.85674620e-01,\n",
              "           -1.05759120e+00,  5.43513931e-02, -5.67983508e-01,\n",
              "            2.93228962e-02, -8.42402577e-02, -1.11615896e+01,\n",
              "           -3.68551165e-02, -5.99537992e+00, -8.81633568e+00,\n",
              "            1.62732983e+00, -5.63904643e-01, -1.02383339e+02,\n",
              "           -1.15123361e-01, -1.12385675e-01,  5.70819378e+00,\n",
              "            1.05372511e-01,  3.94694000e-01, -9.72769070e+00,\n",
              "           -2.77533948e-01,  8.83596838e-01, -2.39709467e-02,\n",
              "           -1.38532579e-01, -4.55826938e-01,  1.35488373e+02,\n",
              "            1.61219388e-02,  1.56745768e+00,  2.25230179e+01,\n",
              "            3.40006256e+01, -1.20908999e+00, -5.87232351e-01,\n",
              "            1.29841745e+00]],\n",
              " \n",
              "         [[-6.38064909e+00,  1.76806796e+00, -5.88956718e+01,\n",
              "           -2.23679733e+00, -4.67237949e+00, -1.07281554e+00,\n",
              "           -1.66883618e-02, -1.43151388e-01,  1.31515825e+00,\n",
              "           -1.37491596e+00, -1.58052295e-01, -2.81208456e-02,\n",
              "            5.94281960e+00, -1.32666707e-01, -1.86375007e-01,\n",
              "           -4.80506683e+02,  1.94666779e+00, -3.87374091e+00,\n",
              "           -9.62872446e-01,  1.48645616e+00, -1.02518708e-01,\n",
              "           -1.55815512e-01, -1.71961650e-01, -1.05152674e-01,\n",
              "            5.04552040e+01, -2.79712737e-01, -6.72579855e-02,\n",
              "            4.12652969e+00, -8.15980881e-02, -5.93791246e-01,\n",
              "           -1.06848530e-01, -1.19499743e-01, -4.54121381e-02,\n",
              "           -9.40903068e-01, -1.30145669e-01, -1.52733600e+00,\n",
              "           -1.22874461e-01, -2.01824814e-01, -1.03745327e+01,\n",
              "           -1.85859784e-01, -2.18206673e+01, -4.22139263e+00,\n",
              "            6.51810932e+00,  4.35625792e-01, -4.18657913e+01,\n",
              "           -7.06667781e-01, -6.33290470e-01,  1.13574982e+01,\n",
              "           -6.74049199e-01,  3.09419096e-01, -6.68734264e+00,\n",
              "           -1.41112053e+00,  6.68700099e-01, -1.88962013e-01,\n",
              "           -1.52391419e-01, -1.05730581e+00,  1.04648468e+02,\n",
              "           -7.75268227e-02,  8.22479343e+00,  1.92989388e+01,\n",
              "            1.93819065e+01,  4.28016996e+00, -4.29504961e-02,\n",
              "            2.22071528e+00]]]], dtype=float32)>,\n",
              " <tf.Variable 'conv2d_2/bias:0' shape=(64,) dtype=float32, numpy=\n",
              " array([-5.79619259e-02,  3.67941968e-02, -5.11469366e-03, -3.52382667e-05,\n",
              "        -6.84048608e-02, -1.15597481e-03,  5.15937791e-06,  0.00000000e+00,\n",
              "         1.93126069e-03, -7.43971206e-03, -9.77516152e-07,  0.00000000e+00,\n",
              "         1.59621231e-06, -1.28483771e-05,  0.00000000e+00, -1.11641369e+01,\n",
              "        -2.36034384e-06, -6.00500181e-02, -1.69174261e-02,  1.21593462e-06,\n",
              "         0.00000000e+00,  0.00000000e+00, -2.46006239e-05,  0.00000000e+00,\n",
              "         4.60876644e-01, -7.63893149e-06,  0.00000000e+00, -1.18833780e-02,\n",
              "         0.00000000e+00,  6.47634261e-06,  0.00000000e+00,  0.00000000e+00,\n",
              "        -1.06376165e-03, -2.07774639e-02, -8.27789245e-06, -5.42998293e-07,\n",
              "        -1.86395628e-05,  0.00000000e+00, -1.19118214e-01,  0.00000000e+00,\n",
              "        -2.31417403e-01, -1.75533292e-04, -4.91738274e-06,  8.58306862e-07,\n",
              "        -5.27858720e-05, -1.09672544e-06,  4.16040422e-07, -5.01561153e-05,\n",
              "         2.16722492e-06, -1.14798536e-06, -2.03257173e-01,  7.15523947e-06,\n",
              "        -1.17848394e-03,  0.00000000e+00,  0.00000000e+00, -4.17850009e-04,\n",
              "         1.17334938e+00, -3.97336480e-05, -4.59670991e-06,  1.12656616e-01,\n",
              "         6.45280600e-01, -7.16447801e-07, -3.36170189e-07,  3.76902744e-02],\n",
              "       dtype=float32)>,\n",
              " <tf.Variable 'batch_normalization_3/gamma:0' shape=(64,) dtype=float32, numpy=\n",
              " array([0.9997261 , 1.0099837 , 0.9932538 , 1.0030311 , 0.999934  ,\n",
              "        1.0001303 , 0.999968  , 1.        , 0.99945337, 1.0001875 ,\n",
              "        1.0036042 , 1.        , 0.99749595, 1.000016  , 1.        ,\n",
              "        0.4710012 , 1.0050691 , 1.0001068 , 0.99995947, 0.99418235,\n",
              "        1.        , 1.        , 1.0000926 , 1.        , 1.0094498 ,\n",
              "        1.0001878 , 1.        , 0.99973845, 1.        , 0.9995029 ,\n",
              "        1.        , 1.        , 1.000049  , 0.99844724, 1.0000354 ,\n",
              "        1.0000839 , 1.0000434 , 1.        , 1.0000819 , 1.        ,\n",
              "        0.99934983, 1.0038468 , 0.9950323 , 1.0044518 , 1.0022477 ,\n",
              "        1.0003275 , 0.9998873 , 1.0075591 , 0.9994671 , 1.006411  ,\n",
              "        0.9777087 , 0.9964076 , 0.99657977, 1.        , 1.        ,\n",
              "        0.9998936 , 1.1659493 , 1.0000495 , 1.0001552 , 0.9787022 ,\n",
              "        1.2696186 , 0.9922682 , 1.0001123 , 1.0162491 ], dtype=float32)>,\n",
              " <tf.Variable 'batch_normalization_3/beta:0' shape=(64,) dtype=float32, numpy=\n",
              " array([ 3.86072497e-04, -1.00212255e-05,  1.05613281e-05,  4.91379751e-07,\n",
              "        -5.16110973e-04, -5.55167557e-04, -2.06115474e-05,  4.74643675e-05,\n",
              "        -1.05022173e-05, -3.07024784e-05,  2.64675828e-06, -1.60403986e-04,\n",
              "         1.01635460e-05, -8.71385055e-07, -1.02150436e-04, -6.05553469e-05,\n",
              "         2.91898823e-06,  2.41902948e-04,  2.63110833e-05, -2.62670198e-07,\n",
              "         2.77695653e-04, -4.50190855e-05,  5.72838035e-05, -2.16121218e-04,\n",
              "         1.42981226e-04, -3.72571783e-04, -1.16446608e-05, -1.41234905e-05,\n",
              "         1.23097590e-04, -7.93736035e-06, -6.95343697e-05,  6.91544992e-05,\n",
              "        -6.29947317e-05, -1.04001389e-04, -1.80428597e-05,  2.72977661e-04,\n",
              "        -4.66147321e-05,  5.14087042e-05,  3.80150013e-04, -2.37166878e-05,\n",
              "         9.34786731e-05,  8.94278219e-06,  2.48266383e-06, -2.80630752e-06,\n",
              "         1.38505357e-06, -3.77755896e-05, -5.83086920e-04,  3.99716191e-06,\n",
              "        -5.53108293e-06,  4.80819517e-06, -3.43456850e-05, -3.14130443e-06,\n",
              "         2.94284905e-06,  1.79615599e-05, -2.92709155e-04,  7.10604509e-05,\n",
              "         8.51427176e-05, -1.52978082e-05,  5.97884173e-06, -3.43661281e-06,\n",
              "         1.05055415e-05, -3.67014673e-06,  1.24430822e-04,  1.51962968e-06],\n",
              "       dtype=float32)>,\n",
              " <tf.Variable 'batch_normalization_4/gamma:0' shape=(3200,) dtype=float32, numpy=\n",
              " array([1.0014627 , 0.39245993, 1.6725852 , ..., 1.175619  , 0.9596402 ,\n",
              "        1.5817709 ], dtype=float32)>,\n",
              " <tf.Variable 'batch_normalization_4/beta:0' shape=(3200,) dtype=float32, numpy=\n",
              " array([ 1.2806982 ,  1.5826279 , -1.8654999 , ...,  1.8940065 ,\n",
              "         0.8617365 , -0.89789444], dtype=float32)>,\n",
              " <tf.Variable 'lstm_2/kernel:0' shape=(3200, 1024) dtype=float32, numpy=\n",
              " array([[-0.02786842, -0.00219393, -0.0225087 , ...,  0.01709481,\n",
              "          0.00197738, -0.02194854],\n",
              "        [ 0.10091206,  0.03912663, -0.5626154 , ..., -0.14759196,\n",
              "         -0.13936518,  0.7027559 ],\n",
              "        [ 0.4949712 ,  0.07501236, -0.2583093 , ..., -0.93164843,\n",
              "         -0.4243486 ,  0.78330487],\n",
              "        ...,\n",
              "        [-0.00226953,  0.06614003, -0.5215339 , ..., -0.6089113 ,\n",
              "          0.03118422,  0.63544023],\n",
              "        [ 0.02939465, -0.03109784, -0.01454534, ..., -0.02236847,\n",
              "         -0.02927775, -0.03054915],\n",
              "        [ 0.01923211,  0.06651216, -0.4703162 , ..., -0.54201347,\n",
              "          0.1137118 ,  0.4516701 ]], dtype=float32)>,\n",
              " <tf.Variable 'lstm_2/recurrent_kernel:0' shape=(256, 1024) dtype=float32, numpy=\n",
              " array([[-0.5047012 , -0.06771451, -0.5485878 , ...,  0.0057725 ,\n",
              "          0.05129983,  0.3555024 ],\n",
              "        [-0.1654615 , -0.14701782, -0.33606404, ..., -0.0881881 ,\n",
              "         -0.00095775,  0.6241193 ],\n",
              "        [-0.03402357,  0.05218818,  0.16757333, ...,  0.05813489,\n",
              "          0.26210925,  0.01710401],\n",
              "        ...,\n",
              "        [-0.70174146, -0.11562049,  0.07134003, ..., -0.01979547,\n",
              "          0.16254993,  0.05310827],\n",
              "        [-0.0872966 , -0.02305909,  0.04918076, ..., -0.24106683,\n",
              "         -0.26599354,  0.1488853 ],\n",
              "        [ 0.19248924,  0.01817475,  0.36629117, ...,  0.1418183 ,\n",
              "          0.38351458, -0.05319805]], dtype=float32)>,\n",
              " <tf.Variable 'lstm_2/bias:0' shape=(1024,) dtype=float32, numpy=\n",
              " array([-0.4610206 , -0.16501383,  0.1704961 , ..., -0.4037295 ,\n",
              "         0.2318777 ,  0.5167089 ], dtype=float32)>,\n",
              " <tf.Variable 'dense_3/kernel:0' shape=(256, 64) dtype=float32, numpy=\n",
              " array([[-3.9184766e+00,  1.9111923e+00,  9.5241271e-02, ...,\n",
              "         -6.5715809e+00, -1.4139004e+01, -7.3052520e-01],\n",
              "        [-5.4045959e+00,  4.9681419e-01,  7.9874694e-02, ...,\n",
              "         -8.5675650e+00, -2.1700958e+01, -2.5166757e+00],\n",
              "        [ 9.4233942e+00, -4.6878940e-01, -1.1458134e-01, ...,\n",
              "          1.6859467e+00,  2.1565187e+00,  2.3204761e+00],\n",
              "        ...,\n",
              "        [-1.0697305e+00, -9.8419356e-01,  1.7914349e-01, ...,\n",
              "         -1.0169625e+01, -8.6456070e+00,  2.3100245e+00],\n",
              "        [ 2.3582354e+00,  6.6904669e+00,  8.3575279e-02, ...,\n",
              "          1.2626892e+00,  1.3827550e+00,  1.6661785e+00],\n",
              "        [-1.0264033e+01, -8.5050669e+00,  1.4822866e-02, ...,\n",
              "          1.4105217e+00,  8.2523406e-01, -7.9049402e-01]], dtype=float32)>,\n",
              " <tf.Variable 'dense_3/bias:0' shape=(64,) dtype=float32, numpy=\n",
              " array([-4.0207912e+01, -1.0857219e+01, -6.1356676e-01, -4.6354340e+01,\n",
              "        -5.8216634e+00, -1.5146580e+01, -2.5879688e+00, -5.2583530e+01,\n",
              "        -1.7277885e+01, -1.1467380e+01, -5.8091486e-01, -7.0934510e-01,\n",
              "        -8.2372551e+00, -1.6742575e+00, -3.8045582e+01, -1.4730139e+01,\n",
              "        -8.9631510e+00, -1.7168140e+01, -5.5542503e+01, -4.5619686e+01,\n",
              "        -1.7226339e+01, -5.0087392e-01, -2.3976128e+01, -4.0271217e+01,\n",
              "        -1.3910297e+01, -9.9454679e+00, -5.1464283e+01, -2.7897388e-02,\n",
              "        -9.9323120e+00, -5.2155067e+01, -6.1439023e+00, -1.9626534e+01,\n",
              "        -3.3854240e+01, -1.8520552e+01, -1.3874217e+00, -3.0084578e+01,\n",
              "        -1.9130444e+01, -4.9890633e+01, -7.4531422e+00, -7.6333504e+01,\n",
              "        -4.3279381e+01, -7.9609857e+00, -1.7520985e+01, -5.8012974e-01,\n",
              "        -5.1820540e-01, -1.3182852e+01, -1.6073299e+01, -1.0230472e+02,\n",
              "        -6.2898865e+00, -2.3609471e+00, -9.5748720e+00, -1.2250017e+00,\n",
              "        -8.5853949e+00, -1.7736273e+01, -6.5352448e+01, -2.8590872e+01,\n",
              "        -6.3855934e+00, -1.7548742e+01, -1.0382464e+02, -4.8415399e+00,\n",
              "        -1.5652862e+01, -1.6542593e+01, -3.0894651e+01, -5.3391824e+00],\n",
              "       dtype=float32)>,\n",
              " <tf.Variable 'dense_4/kernel:0' shape=(3008, 1) dtype=float32, numpy=\n",
              " array([[-2.5112882 ],\n",
              "        [-0.03316148],\n",
              "        [ 0.14031562],\n",
              "        ...,\n",
              "        [-0.37919185],\n",
              "        [-1.5258617 ],\n",
              "        [ 0.599098  ]], dtype=float32)>,\n",
              " <tf.Variable 'dense_4/bias:0' shape=(1,) dtype=float32, numpy=array([-0.984256], dtype=float32)>,\n",
              " <tf.Variable 'batch_normalization_3/moving_mean:0' shape=(64,) dtype=float32, numpy=\n",
              " array([1.8207253e-04, 1.5512457e+01, 3.4442738e-02, 5.9899254e+01,\n",
              "        3.1006865e-03, 3.9428528e-02, 2.8761372e-02, 0.0000000e+00,\n",
              "        2.3811069e+01, 7.6876563e-04, 2.8584642e+00, 0.0000000e+00,\n",
              "        3.1279089e+01, 1.7021195e-03, 0.0000000e+00, 2.9089915e-02,\n",
              "        3.3640140e-01, 3.1408079e-03, 1.4792430e-02, 3.2537923e+00,\n",
              "        0.0000000e+00, 0.0000000e+00, 4.9275081e-03, 0.0000000e+00,\n",
              "        4.5923407e+02, 5.8586694e-02, 0.0000000e+00, 6.6581825e+01,\n",
              "        0.0000000e+00, 2.2701532e-01, 0.0000000e+00, 0.0000000e+00,\n",
              "        1.5256941e-02, 6.6623848e-04, 4.6965373e-03, 1.6096987e-02,\n",
              "        2.5333227e-03, 0.0000000e+00, 1.2663394e-03, 0.0000000e+00,\n",
              "        4.0511586e-06, 8.5310318e-02, 6.1714848e+01, 3.2351118e-01,\n",
              "        5.1526848e-02, 3.8209621e-02, 3.7611149e-02, 1.2915384e+02,\n",
              "        1.3879637e-01, 5.6897345e+00, 3.1767090e-04, 1.6615070e-01,\n",
              "        1.2560366e+01, 0.0000000e+00, 0.0000000e+00, 2.9050330e-02,\n",
              "        1.8199971e+03, 1.3906792e-03, 7.4146820e+01, 3.3783508e+02,\n",
              "        4.0493945e+02, 2.3420485e+01, 4.8319694e-02, 2.8174593e+01],\n",
              "       dtype=float32)>,\n",
              " <tf.Variable 'batch_normalization_3/moving_variance:0' shape=(64,) dtype=float32, numpy=\n",
              " array([8.5185188e-01, 4.1034888e+02, 9.1389525e-01, 6.5710894e+03,\n",
              "        8.6502755e-01, 9.1307968e-01, 8.9841133e-01, 8.5145772e-01,\n",
              "        9.1238336e+02, 8.5393661e-01, 1.5051113e+01, 8.5145772e-01,\n",
              "        1.9163922e+03, 8.5386121e-01, 8.5145772e-01, 8.7858683e-01,\n",
              "        6.5760889e+00, 8.5497057e-01, 8.7881958e-01, 3.8216419e+01,\n",
              "        8.5145772e-01, 8.5145772e-01, 8.7160194e-01, 8.5145772e-01,\n",
              "        3.7656234e+05, 9.8704660e-01, 8.5145772e-01, 7.1572007e+03,\n",
              "        8.5145772e-01, 2.6803126e+00, 8.5145772e-01, 8.5145772e-01,\n",
              "        8.8853234e-01, 8.5761017e-01, 8.6975223e-01, 8.5946780e-01,\n",
              "        8.5678262e-01, 8.5145772e-01, 8.5216546e-01, 8.5145772e-01,\n",
              "        8.5146070e-01, 9.6956426e-01, 6.7247148e+03, 2.5544090e+00,\n",
              "        8.9293432e-01, 8.9482117e-01, 8.9516127e-01, 2.9054582e+04,\n",
              "        1.1708419e+00, 5.1832306e+01, 8.5281545e-01, 1.2497091e+00,\n",
              "        2.5427083e+02, 8.5145772e-01, 8.5145772e-01, 8.8560420e-01,\n",
              "        5.6848140e+06, 8.5306233e-01, 9.7747041e+03, 1.8390933e+05,\n",
              "        2.8099769e+05, 1.0560508e+03, 9.3699163e-01, 1.2970850e+03],\n",
              "       dtype=float32)>,\n",
              " <tf.Variable 'batch_normalization_4/moving_mean:0' shape=(3200,) dtype=float32, numpy=\n",
              " array([0.00109906, 0.01256938, 0.00415386, ..., 0.00373069, 0.00020306,\n",
              "        0.00356283], dtype=float32)>,\n",
              " <tf.Variable 'batch_normalization_4/moving_variance:0' shape=(3200,) dtype=float32, numpy=\n",
              " array([0.8717744 , 1.0293611 , 0.8758161 , ..., 1.0034673 , 0.86049753,\n",
              "        1.0317777 ], dtype=float32)>]"
            ]
          },
          "metadata": {
            "tags": []
          },
          "execution_count": 51
        }
      ]
    },
    {
      "cell_type": "code",
      "metadata": {
        "id": "Y7mV57DMpGbE",
        "colab_type": "code",
        "colab": {}
      },
      "source": [
        ""
      ],
      "execution_count": null,
      "outputs": []
    }
  ]
}